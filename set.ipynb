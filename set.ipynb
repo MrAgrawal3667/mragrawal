{
 "cells": [
  {
   "cell_type": "code",
   "execution_count": 1,
   "id": "5b365ec4",
   "metadata": {},
   "outputs": [],
   "source": [
    "###### set ######  {}\n",
    "\n",
    "## set is a collection unique elements.\n",
    "## set is unordered .\n",
    "## set unindexed \n",
    "## set is immutable"
   ]
  },
  {
   "cell_type": "code",
   "execution_count": 14,
   "id": "05b01f92",
   "metadata": {},
   "outputs": [
    {
     "name": "stdout",
     "output_type": "stream",
     "text": [
      "(1, 'hello', 2.5, 'hi')\n"
     ]
    }
   ],
   "source": [
    "x = (1,\"hello\",2.5,\"hi\n",
    "     \n",
    "     \n",
    "     \n",
    "     \n",
    "     \n",
    "     \n",
    "     \n",
    "     \n",
    "     \n",
    "     \n",
    "     \n",
    "     \n",
    "     \")\n",
    "print(x)"
   ]
  },
  {
   "cell_type": "code",
   "execution_count": null,
   "id": "35fb90b6",
   "metadata": {},
   "outputs": [],
   "source": [
    "x.isdisjoint\n",
    "x.issubset\n",
    "x.issuperset\n"
   ]
  }
 ],
 "metadata": {
  "kernelspec": {
   "display_name": "Python 3 (ipykernel)",
   "language": "python",
   "name": "python3"
  },
  "language_info": {
   "codemirror_mode": {
    "name": "ipython",
    "version": 3
   },
   "file_extension": ".py",
   "mimetype": "text/x-python",
   "name": "python",
   "nbconvert_exporter": "python",
   "pygments_lexer": "ipython3",
   "version": "3.11.5"
  }
 },
 "nbformat": 4,
 "nbformat_minor": 5
}
