{
 "cells": [
  {
   "cell_type": "code",
   "execution_count": 1,
   "id": "dab3b853",
   "metadata": {},
   "outputs": [],
   "source": [
    "## list and tuple\n",
    "\n",
    "## 1.list is a collection different data types (same in tuple)\n",
    "## 2.list is ordered (same in tuple)\n",
    "## 3.lsist is indexed (same in tuple)\n",
    "## 4.repeative elements can be allowed in list and tuple also\n",
    "## 5.list is mutable and tuple is immutable\n"
   ]
  },
  {
   "cell_type": "code",
   "execution_count": 5,
   "id": "0704ef1e",
   "metadata": {},
   "outputs": [
    {
     "name": "stdout",
     "output_type": "stream",
     "text": [
      "4.5\n",
      "['hello', 4.5, 4.5]\n"
     ]
    }
   ],
   "source": [
    "x = [11,\"hello\",4.5,True,'hii']\n",
    "print(x[3])\n",
    "print(x[1:4])     ## slicing"
   ]
  }
 ],
 "metadata": {
  "kernelspec": {
   "display_name": "Python 3 (ipykernel)",
   "language": "python",
   "name": "python3"
  },
  "language_info": {
   "codemirror_mode": {
    "name": "ipython",
    "version": 3
   },
   "file_extension": ".py",
   "mimetype": "text/x-python",
   "name": "python",
   "nbconvert_exporter": "python",
   "pygments_lexer": "ipython3",
   "version": "3.11.5"
  }
 },
 "nbformat": 4,
 "nbformat_minor": 5
}
