{
 "cells": [
  {
   "cell_type": "code",
   "execution_count": 1,
   "id": "afd559d5",
   "metadata": {},
   "outputs": [],
   "source": [
    "##### dict #####\n",
    "\n",
    "## dict is a collection of key value pair\n",
    "## dict is ordered \n",
    "## dict is unindexed\n",
    "## dict is mutable"
   ]
  },
  {
   "cell_type": "code",
   "execution_count": 69,
   "id": "4d095177",
   "metadata": {},
   "outputs": [
    {
     "ename": "TypeError",
     "evalue": "'int' object is not subscriptable",
     "output_type": "error",
     "traceback": [
      "\u001b[1;31m---------------------------------------------------------------------------\u001b[0m",
      "\u001b[1;31mTypeError\u001b[0m                                 Traceback (most recent call last)",
      "Cell \u001b[1;32mIn[69], line 5\u001b[0m\n\u001b[0;32m      3\u001b[0m y \u001b[38;5;241m=\u001b[39m[]\n\u001b[0;32m      4\u001b[0m \u001b[38;5;28;01mfor\u001b[39;00m i \u001b[38;5;129;01min\u001b[39;00m \u001b[38;5;28mrange\u001b[39m(\u001b[38;5;28mlen\u001b[39m(x)):\n\u001b[1;32m----> 5\u001b[0m     z[i[x]] \u001b[38;5;241m=\u001b[39m i\n\u001b[0;32m      6\u001b[0m     \u001b[38;5;28mprint\u001b[39m(z)\n",
      "\u001b[1;31mTypeError\u001b[0m: 'int' object is not subscriptable"
     ]
    }
   ],
   "source": [
    "x = \"hello how are you\"\n",
    "z = {}\n",
    "y =[]\n",
    "for i in range(len(x)):\n",
    "    z[i[x]] = i\n",
    "    print(z)"
   ]
  },
  {
   "cell_type": "code",
   "execution_count": 76,
   "id": "1cfb91dd",
   "metadata": {},
   "outputs": [
    {
     "name": "stdout",
     "output_type": "stream",
     "text": [
      "6 6\n"
     ]
    }
   ],
   "source": [
    "x = {\n",
    "    'a':1,\n",
    "    'b':2,\n",
    "    'c':3\n",
    "}\n",
    "s = 0\n",
    "m = 1\n",
    "for i in x.values():\n",
    "    s = s + i\n",
    "    m = m * i\n",
    "print(s,m)"
   ]
  },
  {
   "cell_type": "code",
   "execution_count": null,
   "id": "d47c2bc8",
   "metadata": {},
   "outputs": [],
   "source": []
  }
 ],
 "metadata": {
  "kernelspec": {
   "display_name": "Python 3 (ipykernel)",
   "language": "python",
   "name": "python3"
  },
  "language_info": {
   "codemirror_mode": {
    "name": "ipython",
    "version": 3
   },
   "file_extension": ".py",
   "mimetype": "text/x-python",
   "name": "python",
   "nbconvert_exporter": "python",
   "pygments_lexer": "ipython3",
   "version": "3.11.5"
  }
 },
 "nbformat": 4,
 "nbformat_minor": 5
}
