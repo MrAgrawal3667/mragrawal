{
 "cells": [
  {
   "cell_type": "code",
   "execution_count": 1,
   "id": "afd559d5",
   "metadata": {},
   "outputs": [],
   "source": [
    "##### dict #####\n",
    "\n",
    "## dict is a collection of key value pair\n",
    "## dict is ordered \n",
    "## dict is unindexed\n",
    "## dict is mutable"
   ]
  },
  {
   "cell_type": "code",
   "execution_count": 6,
   "id": "4d095177",
   "metadata": {},
   "outputs": [
    {
     "ename": "TypeError",
     "evalue": "'str' object cannot be interpreted as an integer",
     "output_type": "error",
     "traceback": [
      "\u001b[1;31m---------------------------------------------------------------------------\u001b[0m",
      "\u001b[1;31mTypeError\u001b[0m                                 Traceback (most recent call last)",
      "Cell \u001b[1;32mIn[6], line 3\u001b[0m\n\u001b[0;32m      1\u001b[0m x \u001b[38;5;241m=\u001b[39m \u001b[38;5;124m\"\u001b[39m\u001b[38;5;124mhello how are you\u001b[39m\u001b[38;5;124m\"\u001b[39m\n\u001b[0;32m      2\u001b[0m z \u001b[38;5;241m=\u001b[39m {}\n\u001b[1;32m----> 3\u001b[0m \u001b[38;5;28;01mfor\u001b[39;00m i \u001b[38;5;129;01min\u001b[39;00m \u001b[38;5;28mrange\u001b[39m(x):\n\u001b[0;32m      4\u001b[0m     z\u001b[38;5;241m.\u001b[39mprint({x[i],\u001b[38;5;124m\"\u001b[39m\u001b[38;5;124m-----\u001b[39m\u001b[38;5;124m\"\u001b[39m,x(i)})\n",
      "\u001b[1;31mTypeError\u001b[0m: 'str' object cannot be interpreted as an integer"
     ]
    }
   ],
   "source": [
    "x = \"hello how are you\"\n",
    "z = {}\n",
    "for i in range(x):\n",
    "    print({x[i],\"-----\",x(i)})\n"
   ]
  },
  {
   "cell_type": "code",
   "execution_count": null,
   "id": "1cfb91dd",
   "metadata": {},
   "outputs": [],
   "source": []
  }
 ],
 "metadata": {
  "kernelspec": {
   "display_name": "Python 3 (ipykernel)",
   "language": "python",
   "name": "python3"
  },
  "language_info": {
   "codemirror_mode": {
    "name": "ipython",
    "version": 3
   },
   "file_extension": ".py",
   "mimetype": "text/x-python",
   "name": "python",
   "nbconvert_exporter": "python",
   "pygments_lexer": "ipython3",
   "version": "3.11.5"
  }
 },
 "nbformat": 4,
 "nbformat_minor": 5
}
